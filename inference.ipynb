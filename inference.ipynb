{
 "cells": [
  {
   "cell_type": "code",
   "execution_count": 0,
   "metadata": {
    "colab": {},
    "colab_type": "code",
    "id": "-Su_IriegxVE"
   },
   "outputs": [],
   "source": [
    "import scipy as sc\n",
    "import numpy as np\n",
    "#import networkx as nx\n",
    "import matplotlib.pyplot as plt\n",
    "from scipy import stats\n",
    "from scipy.special import gegenbauer\n",
    "\n",
    "import cvxpy as cp\n",
    "import numpy as np\n",
    "\n",
    "class Clustering:\n",
    "    def __init__(self, n, K):\n",
    "        self.n = n\n",
    "        self.K = K\n",
    "\n",
    "    def solve_relaxed_LP(self, M):\n",
    "        barx = cp.Variable((self.n,self.n))\n",
    "        bary = cp.Variable(self.n)\n",
    "        C = np.zeros((self.n,self.n))\n",
    "        for i in range(1, self.n):\n",
    "            for j in range(i):\n",
    "                C[i,j] = np.linalg.norm(M[:,i]-M[:,j], ord=1)\n",
    "                C[j,i] = C[i,j]\n",
    "        \n",
    "        constraints = [ cp.sum(barx[:,j]) == 1 for j in range(self.n)]\n",
    "        constraints += [\n",
    "           - barx[i%self.n,i//self.n] +  bary[i%self.n] >= 0 for i in range(self.n * self.n)\n",
    "        ]\n",
    "        constraints += [\n",
    "           self.K - cp.sum(bary) >= 0\n",
    "        ]\n",
    "        constraints += [\n",
    "           barx[i%self.n,i//self.n] >=0 for i in range(self.n * self.n)\n",
    "        ]\n",
    "        constraints += [\n",
    "           bary[i] >=0 for i in range(self.n)\n",
    "        ]\n",
    "        prob = cp.Problem(cp.Minimize(cp.trace(C@barx)),\n",
    "                         constraints)\n",
    "        prob.solve()\n",
    "        self.barx = barx.value\n",
    "        self.bary = bary.value\n",
    "        self.C = C\n",
    "        \n",
    "    def Kmedoids(self):\n",
    "        \n",
    "        # Step 1 : consolidating locations\n",
    "        \n",
    "        ## It consists in moving revelantly demand.        \n",
    "        ## All locations with positive demand will be far from eachother, garanteeing:\n",
    "        ##    - not increase the cost of the fractional solution\n",
    "        ##    - each feasible integer solution for the modified instance can be converted to a feasible integer \n",
    "        ##      solution for the original instance with a small added cost\n",
    "        d = np.ones(self.n)\n",
    "        barC = np.diag(self.C@self.barx)\n",
    "        ind = np.argsort(barC)\n",
    "        for j in range(self.n):\n",
    "            for i in range(j):\n",
    "                if d[ind[i]]>0 and self.C[ind[i],ind[j]]<=4*barC[ind[j]]:\n",
    "                    d[ind[i]] += d[ind[j]]\n",
    "                    d[ind[j]] = 0\n",
    "\n",
    "        # Step 2 : Consolidating centers\n",
    "        \n",
    "        ## Construction of a 1/2-resticted solution\n",
    "        ## y_i=0 if d[i]=0 and y_i >=1/2 otherwise (without paying this too much). \n",
    "        px = np.copy(self.barx)\n",
    "        py = np.copy(self.bary)\n",
    "        # Closest[i] will be the closest node to i (except i), let's say j, satisfying d[j]>0\n",
    "        closest = []\n",
    "        dico_weights = {}\n",
    "        sorted_lines_C = np.zeros((self.n,self.n))\n",
    "        for i in range(self.n):\n",
    "            ls = np.argsort(self.C[i,:])\n",
    "            sorted_lines_C[i,:] = ls\n",
    "            j = 0\n",
    "            while (d[int(ls[j])]==0 or i==int(ls[j])):\n",
    "                j += 1\n",
    "            closest.append(ls[j])\n",
    "            \n",
    "            # We only move the nodes with a null demand and a partial open center (i.e y>0) and thus that can't be a center            \n",
    "            if d[i]==0 and py[i]>0:\n",
    "                # We assign i to the closest point j such that d[j] > 0             \n",
    "                py[j] = min(1 , py[i] + py[j])\n",
    "                py[i] = 0\n",
    "                for pj in range(self.n):\n",
    "                    px[j,pj] += px[i,pj]\n",
    "                    px[i,pj] = 0\n",
    "            \n",
    "            if d[i]>0:\n",
    "                dico_weights[i] = d[i]*self.C[closest[i],i]\n",
    "                \n",
    "        ## Construction of a (1/2-1)-integral solution\n",
    "        ## y_i=0 if d[i]=0 and y_i =1/2 or 1 otherwise (without paying this too much). \n",
    "        pn = len(dico_weights)\n",
    "        haty = np.zeros(self.n)\n",
    "        hatx = np.zeros((self.n,self.n))\n",
    "        # We sort the locations j \\in N' (ie such that d[j]>0) in decreasing order of their weight\n",
    "        sorted_dico_weights = {k: v for k, v in sorted(dico_weights.items(), key=lambda item: item[1], reverse=True)}\n",
    "        list_keys = sorted_dico_weights.keys() #list of nodes in N' (i.e. with d[i]>0)\n",
    "        for ind, j in enumerate(list_keys):\n",
    "            if ind < 2*self.K-pn:\n",
    "                haty[j] = 1\n",
    "            else:\n",
    "                haty[j] = 1/2\n",
    "                hatx[closest[j],j] = 1/2\n",
    "            hatx[j,j] = haty[j]\n",
    "\n",
    "        # Step 3 : rounding a {1/2, 1}-integral solution to an integral one\n",
    "        centers = [k for k in list_keys if haty[k] == 1]\n",
    "        odd_level = []\n",
    "        even_level = []\n",
    "        dico_closest = {i:closest[i] for i in list_keys if haty[i]==1/2}\n",
    "        if len(dico_closest)>0:\n",
    "            j, s_j = dico_closest.popitem()\n",
    "        level = 0\n",
    "        while len(dico_closest)>0:\n",
    "            if level%2==0:\n",
    "                odd_level.append(j)\n",
    "            else:\n",
    "                even_level.append(j)\n",
    "            level += 1\n",
    "            if s_j in dico_closest:\n",
    "                j = s_j\n",
    "                s_j = dico_closest[s_j]\n",
    "                del dico_closest[j]\n",
    "            elif len(dico_closest)>0:              \n",
    "                j, s_j = dico_closest.popitem()\n",
    "                level = 0\n",
    "        if len(odd_level)<len(even_level):\n",
    "            centers = centers + odd_level\n",
    "        else:\n",
    "            centers = centers + even_level\n",
    "        \n",
    "        # -1 is assigned to the nodes that are not centers. Otherwise, we numerote them.\n",
    "        num_center = -np.ones(self.n)\n",
    "        for ind, j in enumerate(centers):\n",
    "            num_center[j] = int(ind)\n",
    "\n",
    "        self.A = np.zeros((self.n,self.K))\n",
    "        for i in range(self.n):\n",
    "            if num_center[i] == -1:\n",
    "                ls = sorted_lines_C[i,:]\n",
    "                count = 0\n",
    "                while num_center[int(ls[count])] == -1:\n",
    "                    count += 1\n",
    "                self.A[i,int(num_center[int(ls[count])])] = 1\n",
    "            else:\n",
    "                self.A[i,int(num_center[i])] = 1\n",
    "          \n",
    "        self.clusters_approx = []\n",
    "        for i in range(self.n):\n",
    "          for j in range(self.K):\n",
    "            if self.A[i,j]==1:\n",
    "              self.clusters_approx.append(j)\n",
    "\n",
    "\n",
    "class SBM(Clustering):\n",
    "    def __init__(self, n, K, ini_distribution='uniform', framework='iid', Q=None, P=None):\n",
    "        super().__init__(n, K) \n",
    "        self.fw = framework\n",
    "        self.permutation = None\n",
    "        # First state\n",
    "        self.ini_distribution = ini_distribution\n",
    "        # Connection matrix : Q\n",
    "        self.edges_matrix(Q)\n",
    "        # Transition matrix | Clusters of each node : P, clusters\n",
    "        self.generate_clusters(P)\n",
    "        # Effectif of each cluster | B matrix : effectifs, B\n",
    "        self.effectif_clusters()\n",
    "        # Adjacency matrix : X\n",
    "        self.adjacency_matrix()\n",
    "        \n",
    "    def edges_matrix(self, Q):\n",
    "        if Q is None:\n",
    "            a = np.random.rand(self.K, self.K)\n",
    "            self.Q = np.tril(a) + np.tril(a, -1).T\n",
    "        else:\n",
    "            self.Q = Q\n",
    "            \n",
    "    def initial_distribution(self):\n",
    "        if self.ini_distribution == 'uniform':\n",
    "            return np.random.randint(0,self.K)\n",
    "            \n",
    "    def generate_clusters(self, P):\n",
    "        if self.fw == 'iid':\n",
    "            self.clusters = np.random.randint(0,self.K,self.n)\n",
    "        if self.fw == 'markov':\n",
    "            if P is None:\n",
    "                self.P = np.random.rand(self.K, self.K)\n",
    "                self.P /= np.tile(np.sum(self.P, axis=1).reshape(-1,1),(1,self.K))\n",
    "            else:\n",
    "                self.P = P\n",
    "            clusters = [self.initial_distribution()]\n",
    "            for node in range(1,self.n):\n",
    "                clusters.append(self.next_state(clusters[-1]))\n",
    "            self.clusters = clusters\n",
    "\n",
    "    def effectif_clusters(self):\n",
    "        self.effectifs = np.zeros(self.K)\n",
    "        for node in range(self.n):\n",
    "            self.effectifs[self.clusters[node]] += 1\n",
    "\n",
    "        self.B = np.zeros((self.n,self.n))\n",
    "        for i in range(self.n):\n",
    "          for j in range(self.n):\n",
    "            if self.clusters[i]==self.clusters[j]:\n",
    "              self.B[i,j] = 1/self.effectifs[self.clusters[i]]\n",
    "            \n",
    "    def next_state(self, i):\n",
    "        a = np.cumsum(self.P[i,:])\n",
    "        u = np.random.rand()\n",
    "        state = 0\n",
    "        for ind in range(self.K):\n",
    "            if u < a[ind]:\n",
    "                state = ind\n",
    "                break\n",
    "        return state\n",
    "    \n",
    "    def bernoulli(self, q):\n",
    "        u = np.random.rand()\n",
    "        if u < q:\n",
    "            return 1\n",
    "        else:\n",
    "            return 0\n",
    "\n",
    "    def adjacency_matrix(self):\n",
    "        X = np.zeros((self.n,self.n))\n",
    "        for i in range(1,self.n):\n",
    "            for j in range(i):\n",
    "                X[i,j] = self.bernoulli(self.Q[self.clusters[i],self.clusters[j]])\n",
    "                X[j,i] = X[i,j]\n",
    "        self.X = X\n",
    "        \n",
    "    def solve_relaxed_SDP(self):   \n",
    "        density = 2*np.sum(self.X) / (self.n * (self.n - 1))\n",
    "        #alpha = min(1, (self.K**3/self.n)*np.exp(2*self.n*density))\n",
    "        alpha = 1 / min(list(filter(lambda x : x>0, self.effectifs)))\n",
    "        B = cp.Variable((self.n,self.n))\n",
    "        constraints = [B >> 0]\n",
    "        constraints += [\n",
    "           B == B.T\n",
    "        ]\n",
    "        ones = np.ones(self.n)\n",
    "        constraints += [\n",
    "           B@ones == ones\n",
    "        ]\n",
    "        constraints += [\n",
    "           cp.trace(B)==self.K\n",
    "        ]\n",
    "        constraints += [\n",
    "           B[i//self.n,i%self.n]>=0 for i in range(self.n * self.n)\n",
    "        ]\n",
    "        constraints += [\n",
    "           alpha-B[i//self.n,i%self.n]>=0 for i in range(self.n * self.n)\n",
    "        ]\n",
    "        prob = cp.Problem(cp.Minimize(-cp.trace(self.X@(self.X).T@B)),\n",
    "                          constraints)\n",
    "        prob.solve(verbose=True)\n",
    "        self.B_relaxed = B.value\n",
    "\n",
    "    def compute_costs(self):\n",
    "        print('True cost', np.trace(self.X@self.X.T@self.B))\n",
    "        print('Approximated cost', np.trace(self.X@self.X.T@self.B_relaxed))\n",
    "\n",
    "    def build_partition(self, clust):\n",
    "      d = {}\n",
    "      for i in range(len(clust)):\n",
    "        if clust[i] in d:\n",
    "          d[clust[i]].add(i)\n",
    "        else:\n",
    "          d[clust[i]] = {i}\n",
    "      return (d)\n",
    "\n",
    "    def find_permutation(self, true_partition, approx_partition):\n",
    "      import itertools\n",
    "      permus = list(itertools.permutations([i for i in range(self.K)]))\n",
    "      best_error = np.float('inf')\n",
    "      for permu in permus:\n",
    "        error = 0\n",
    "        for k in range(self.K):\n",
    "          error += len(true_partition[k]-approx_partition[permu[k]])\n",
    "        if error < best_error:\n",
    "          best_error = error\n",
    "          self.permutation = permu\n",
    "\n",
    "    def proportion_error(self):\n",
    "      true_partition   = self.build_partition(self.clusters)\n",
    "      approx_partition = self.build_partition(self.clusters_approx) \n",
    "      self.find_permutation(true_partition, approx_partition)\n",
    "      error = 0\n",
    "      for k in range(self.K):\n",
    "        error += len(true_partition[k]-approx_partition[self.permutation[k]])\n",
    "      return (error / self.n)\n",
    "\n",
    "    def estimate_transition_matrix(self):\n",
    "        assert(self.fw == 'markov')\n",
    "        self.approx_P = np.zeros((self.K,self.K))\n",
    "        if self.permutation is None:\n",
    "          true_partition   = self.build_partition(self.clusters)\n",
    "          approx_partition = self.build_partition(self.clusters_approx)\n",
    "          self.find_permutation(true_partition, approx_partition)\n",
    "        permu_approx2true = np.arange(len(self.permutation))[np.argsort(self.permutation)]\n",
    "        approx_pi = np.zeros(self.K)\n",
    "        for i in range(self.n-1):\n",
    "          k = permu_approx2true[self.clusters_approx[i]]\n",
    "          l = permu_approx2true[self.clusters_approx[i+1]]\n",
    "          self.approx_P[k,l] += 1\n",
    "          approx_pi[k]  += 1\n",
    "        approx_pi[l] += 1\n",
    "        self.approx_P *= self.n\n",
    "        self.approx_P /= self.n-1\n",
    "        self.approx_P /= np.tile(approx_pi.reshape(-1,1),(1,self.K))"
   ]
  },
  {
   "cell_type": "code",
   "execution_count": 0,
   "metadata": {
    "colab": {
     "base_uri": "https://localhost:8080/",
     "height": 605
    },
    "colab_type": "code",
    "id": "k56Kmobag56C",
    "outputId": "4723ebd2-1c10-4e76-d578-299be22cf33b"
   },
   "outputs": [
    {
     "name": "stdout",
     "output_type": "stream",
     "text": [
      "----------------------------------------------------------------------------\n",
      "\tSCS v2.1.1 - Splitting Conic Solver\n",
      "\t(c) Brendan O'Donoghue, Stanford University, 2012\n",
      "----------------------------------------------------------------------------\n",
      "Lin-sys: sparse-direct, nnz in A = 15000\n",
      "eps = 1.00e-04, alpha = 1.50, max_iters = 5000, normalize = 1, scale = 1.00\n",
      "acceleration_lookback = 10, rho_x = 1.00e-03\n",
      "Variables n = 2500, constraints m = 8826\n",
      "Cones:\tprimal zero / dual free vars: 2551\n",
      "\tlinear vars: 5000\n",
      "\tsd vars: 1275, sd blks: 1\n",
      "Setup time: 1.39e-02s\n",
      "----------------------------------------------------------------------------\n",
      " Iter | pri res | dua res | rel gap | pri obj | dua obj | kap/tau | time (s)\n",
      "----------------------------------------------------------------------------\n",
      "     0| 1.71e+00  9.99e-01  4.17e-01 -1.26e+03 -5.16e+02  3.73e-13  8.53e-03 \n",
      "    60| 9.07e-07  3.95e-06  1.43e-06 -4.46e+02 -4.46e+02  4.30e-14  2.11e-01 \n",
      "----------------------------------------------------------------------------\n",
      "Status: Solved\n",
      "Timing: Solve time: 2.11e-01s\n",
      "\tLin-sys: nnz in L factor: 30051, avg solve time: 1.89e-04s\n",
      "\tCones: avg projection time: 1.60e-03s\n",
      "\tAcceleration: avg step time: 1.25e-03s\n",
      "----------------------------------------------------------------------------\n",
      "Error metrics:\n",
      "dist(s, K) = 1.7079e-09, dist(y, K*) = 8.1508e-10, s'y/|s||y| = -1.9469e-13\n",
      "primal res: |Ax + s - b|_2 / (1 + |b|_2) = 9.0693e-07\n",
      "dual res:   |A'y + c|_2 / (1 + |c|_2) = 3.9479e-06\n",
      "rel gap:    |c'x + b'y| / (1 + |c'x| + |b'y|) = 1.4278e-06\n",
      "----------------------------------------------------------------------------\n",
      "c'x = -446.1063, -b'y = -446.1075\n",
      "============================================================================\n"
     ]
    }
   ],
   "source": [
    "P = np.array([[0.2, 0.8],[0.7, 0.3]])\n",
    "Q = np.array([[0.8, 0.2],[0.2, 0.2]])\n",
    "model = SBM(50,2, framework='markov', P=P, Q=Q)\n",
    "model.solve_relaxed_SDP()\n",
    "model.solve_relaxed_LP(model.B_relaxed)\n",
    "model.Kmedoids()"
   ]
  },
  {
   "cell_type": "code",
   "execution_count": 0,
   "metadata": {
    "colab": {
     "base_uri": "https://localhost:8080/",
     "height": 267
    },
    "colab_type": "code",
    "id": "OVdQBsJ6yaef",
    "outputId": "780e68aa-33f0-4dde-9953-0a1495d9242c"
   },
   "outputs": [
    {
     "data": {
      "image/png": "[encoded data removed]",
      "text/plain": [
       "<Figure size 432x288 with 1 Axes>"
      ]
     },
     "metadata": {
      "tags": []
     },
     "output_type": "display_data"
    }
   ],
   "source": [
    "I = np.argsort(model.clusters)\n",
    "\n",
    "# import matplotlib.pyplot as plt\n",
    "\n",
    "temp = model.B_relaxed[I,:]\n",
    "plt.imshow(temp[:,I])\n",
    "\n",
    "# temp = model.B[I,:]\n",
    "# plt.imshow(temp[:,I])\n",
    "plt.show()"
   ]
  },
  {
   "cell_type": "code",
   "execution_count": 0,
   "metadata": {
    "colab": {
     "base_uri": "https://localhost:8080/",
     "height": 35
    },
    "colab_type": "code",
    "id": "9lFk5Zmu8ssM",
    "outputId": "1a75d688-8b4e-4d68-b6e6-83d7bcaf7947"
   },
   "outputs": [
    {
     "name": "stdout",
     "output_type": "stream",
     "text": [
      "We get  0.0 % of error on the final clustering.\n"
     ]
    }
   ],
   "source": [
    "print('We get ', 100*model.proportion_error(), '% of error on the final clustering.')"
   ]
  },
  {
   "cell_type": "code",
   "execution_count": 0,
   "metadata": {
    "colab": {
     "base_uri": "https://localhost:8080/",
     "height": 127
    },
    "colab_type": "code",
    "id": "QNWn8Lu_0Ytr",
    "outputId": "d2010bb8-66a9-437f-a2d2-acc59956e783"
   },
   "outputs": [
    {
     "name": "stdout",
     "output_type": "stream",
     "text": [
      "True transition matrix \n",
      " [[0.2 0.8]\n",
      " [0.7 0.3]]\n",
      "Approximaton transition matrix \n",
      " [[0.22182786 0.7985803 ]\n",
      " [0.68027211 0.30234316]]\n"
     ]
    }
   ],
   "source": [
    "model.estimate_transition_matrix()\n",
    "print('True transition matrix \\n',model.P)\n",
    "print('Approximation transition matrix \\n',model.approx_P)"
   ]
  },
  {
   "cell_type": "markdown",
   "metadata": {
    "colab_type": "text",
    "id": "heg65I7pY7-N"
   },
   "source": [
    "\n",
    "# New relaxation"
   ]
  },
  {
   "cell_type": "markdown",
   "metadata": {
    "colab_type": "text",
    "id": "x0sNsDScj8m2"
   },
   "source": [
    "Let $X$ be the adjacency matrix of the graph. \n",
    "\n",
    "We consider the optimization problem :\n",
    "\n",
    "$$\\underset{W \\in \\mathbb{R}^{n\\times n} \\; with\\; col(W) \\in \\mathcal{C}_K}{\\min}  \\|X-W\\|^2  $$\n",
    "\n",
    "where $\\mathcal{C}_K := \\{ \\{v_1, \\dots , v_K\\} , \\; v_l \\in \\mathbb{R}^{n}, \\; \\forall l \\in [K] \\}$ and $col(W) = \\{ W_{:,1}, \\dots, W_{:,n} \\}$.\n",
    "\n",
    "\n",
    "\n",
    "\n",
    "\n",
    "\n",
    "If we know the clusters (i.e. we know the partition $(c_1, \\dots , c_K)$ of the nodes), we get that with high probability, the solution of this optimization problem is given by :\n",
    "\n",
    "$$\\forall k \\in [K], \\; \\forall j \\in c_k, \\; W_{:,j} = \\frac{1}{\\# c_k} \\sum_{i \\in c_k} X_{:,i}.$$\n",
    "\n",
    "\n",
    "\n",
    "We can relax the constraint of the previous NP-hard optimization problem considering  $$\\underset{W \\in \\mathbb{R}^{n\\times n} \\; with\\; rk(W) \\leq K}{\\min}  \\|X-W\\|^2  .$$\n",
    "\n",
    "\n",
    "This formulation is still not efficiently solvable because of the rank constraint. We decide to follow the strategy of the paper *Fast Algorithms for Sparse Reduced-Rank Regression* writting the matrix $W$ as :\n",
    "\n",
    "$$W = UV^T$$\n",
    "\n",
    "where $U \\in \\mathbb{R}^{n \\times K}$ and $V \\in \\mathbb{R}^{n \\times K}$.\n",
    "\n",
    "Without loss of generality, we can consider $V^TV=I_K$.\n",
    "\n",
    "\n",
    "\n",
    "We want to solve :\n",
    "\n",
    "\\begin{align*}\n",
    "&\\underset{U,V \\in \\mathbb{R}^{n\\times K} \\; with\\; V^TV=I_K}{\\min}  \\frac12 \\|X-UV^T\\|^2_F  \\\\ \n",
    " \\Leftrightarrow &\\frac12 \\|X\\|^2_F +  \\underset{U\\in \\mathbb{R}^{n\\times K}}{\\min} \\Bigg( \\; \\underset{V \\in \\mathbb{R}^{n\\times K}\\; with\\; V^TV=I_K}{\\min}  -Tr\\left( XUV^T  \\right)  + \\frac12 \\|UV^T\\|^2_F \\Bigg)\\\\\n",
    " \\Leftrightarrow &\\frac12 \\|X\\|^2_F +  \\underset{U\\in \\mathbb{R}^{n\\times K}}{\\min} \\Bigg( \\; -\\Bigg[\\underset{V \\in \\mathbb{R}^{n\\times K}\\; with\\; V^TV=I_K}{\\max}  Tr\\left( XUV^T  \\right) \\Bigg]  + \\frac12 \\|U\\|^2_F \\Bigg) \\\\\n",
    " \\Leftrightarrow & \\frac12 \\|X\\|^2_F + \\underset{U\\in \\mathbb{R}^{n\\times K}}{\\min} \\; \\frac12 \\|U\\|^2_F - \\|XU\\|_*.\n",
    "\\end{align*}\n",
    "\n",
    "where we used that $$\\underset{V \\in \\mathbb{R}^{n\\times K}\\; with\\; V^TV=I_K}{\\max}  Tr\\left( XUV^T  \\right)  = \\|XU\\|_*.$$\n",
    "\n",
    "\n",
    "\n",
    "Let's denote $f(U) = \\frac12 \\|U\\|^2_F - \\|XU\\|_*$ and for all $t>0$, $f_{t,U}(U') = f(U) + \\left( \\nabla f(U),U'-U \\right) + \\frac{1}{2t} \\|U'-U\\|^2_F,$\n",
    "\n",
    "where, by a slight abuse of notation, we defined $\\nabla f(U) := U-z_U$ where $z_U$ is a subgradient of the convex function $U' \\mapsto \\|XU'\\|_*.$ \n",
    "\n",
    "\n",
    "\n",
    "\n",
    "The iterative algorithm consists in :\n",
    "\n",
    "-  Performing a line search to find a relevant $t$ value such that $f_{t,U_k}(U_+) \\geq f(U_+)$\n",
    "where $$U_+ = \\arg \\underset{U' \\in \\mathbb{R}^{n \\times K}}{\\min} f_{t,U_k}(U').$$\n",
    "- Updating the values of $U$ : $U_{k+1} \\leftarrow U_+$\n",
    "\n"
   ]
  },
  {
   "cell_type": "code",
   "execution_count": 0,
   "metadata": {
    "colab": {},
    "colab_type": "code",
    "id": "n6GQsy8SY8IW"
   },
   "outputs": [],
   "source": [
    "def prox_l1(x, mu):\n",
    "    x[np.where(np.abs(x)<=mu)] = 0\n",
    "    return x\n",
    "\n",
    "def grad(X, U):\n",
    "    R1,s,R2t = np.linalg.svd(X @ U)\n",
    "    return (U - X @ (R1[:,:R2t.shape[0]] @ R2t))\n",
    "\n",
    "def proximal_descent(X, t, U, beta, pi, mu):\n",
    "    for k in range(50):\n",
    "      t, U = line_search(X, t, U, beta, pi, mu)\n",
    "    return U\n",
    "\n",
    "def line_search(X, tkm, Uk, beta, pi, mu):\n",
    "    if np.random.rand()< pi:\n",
    "      t = tkm / beta\n",
    "    else:\n",
    "      t = tkm\n",
    "    Up = prox_l1(Uk-t*grad(X, Uk), mu)\n",
    "    while ():\n",
    "      t *= beta\n",
    "      Up = prox_l1(Uk-t*grad(X, Uk), mu)\n",
    "    return (t, Up)"
   ]
  },
  {
   "cell_type": "code",
   "execution_count": 0,
   "metadata": {
    "colab": {
     "base_uri": "https://localhost:8080/",
     "height": 608
    },
    "colab_type": "code",
    "id": "g6qsLTrVeDD0",
    "outputId": "9eb61020-55eb-4565-a649-5f394cba99fc"
   },
   "outputs": [
    {
     "ename": "SolverError",
     "evalue": "ignored",
     "output_type": "error",
     "traceback": [
      "\u001b[0;31m---------------------------------------------------------------------------\u001b[0m",
      "\u001b[0;31mSolverError\u001b[0m                               Traceback (most recent call last)",
      "\u001b[0;32m<ipython-input-6-ae37720c71c6>\u001b[0m in \u001b[0;36m<module>\u001b[0;34m()\u001b[0m\n\u001b[1;32m     17\u001b[0m \u001b[0mplt\u001b[0m\u001b[0;34m.\u001b[0m\u001b[0mimshow\u001b[0m\u001b[0;34m(\u001b[0m\u001b[0mtemp\u001b[0m\u001b[0;34m[\u001b[0m\u001b[0;34m:\u001b[0m\u001b[0;34m,\u001b[0m\u001b[0mI\u001b[0m\u001b[0;34m]\u001b[0m\u001b[0;34m)\u001b[0m\u001b[0;34m\u001b[0m\u001b[0;34m\u001b[0m\u001b[0m\n\u001b[1;32m     18\u001b[0m \u001b[0;34m\u001b[0m\u001b[0m\n\u001b[0;32m---> 19\u001b[0;31m \u001b[0mmodel\u001b[0m\u001b[0;34m.\u001b[0m\u001b[0msolve_relaxed_LP\u001b[0m\u001b[0;34m(\u001b[0m\u001b[0mW\u001b[0m\u001b[0;34m)\u001b[0m\u001b[0;34m\u001b[0m\u001b[0;34m\u001b[0m\u001b[0m\n\u001b[0m\u001b[1;32m     20\u001b[0m \u001b[0mmodel\u001b[0m\u001b[0;34m.\u001b[0m\u001b[0mKmedoids\u001b[0m\u001b[0;34m(\u001b[0m\u001b[0;34m)\u001b[0m\u001b[0;34m\u001b[0m\u001b[0;34m\u001b[0m\u001b[0m\n",
      "\u001b[0;32m<ipython-input-1-de84085a4d84>\u001b[0m in \u001b[0;36msolve_relaxed_LP\u001b[0;34m(self, M)\u001b[0m\n\u001b[1;32m     40\u001b[0m         prob = cp.Problem(cp.Minimize(cp.trace(C@barx)),\n\u001b[1;32m     41\u001b[0m                          constraints)\n\u001b[0;32m---> 42\u001b[0;31m         \u001b[0mprob\u001b[0m\u001b[0;34m.\u001b[0m\u001b[0msolve\u001b[0m\u001b[0;34m(\u001b[0m\u001b[0;34m)\u001b[0m\u001b[0;34m\u001b[0m\u001b[0;34m\u001b[0m\u001b[0m\n\u001b[0m\u001b[1;32m     43\u001b[0m         \u001b[0mself\u001b[0m\u001b[0;34m.\u001b[0m\u001b[0mbarx\u001b[0m \u001b[0;34m=\u001b[0m \u001b[0mbarx\u001b[0m\u001b[0;34m.\u001b[0m\u001b[0mvalue\u001b[0m\u001b[0;34m\u001b[0m\u001b[0;34m\u001b[0m\u001b[0m\n\u001b[1;32m     44\u001b[0m         \u001b[0mself\u001b[0m\u001b[0;34m.\u001b[0m\u001b[0mbary\u001b[0m \u001b[0;34m=\u001b[0m \u001b[0mbary\u001b[0m\u001b[0;34m.\u001b[0m\u001b[0mvalue\u001b[0m\u001b[0;34m\u001b[0m\u001b[0;34m\u001b[0m\u001b[0m\n",
      "\u001b[0;32m/usr/local/lib/python3.6/dist-packages/cvxpy/problems/problem.py\u001b[0m in \u001b[0;36msolve\u001b[0;34m(self, *args, **kwargs)\u001b[0m\n\u001b[1;32m    287\u001b[0m         \u001b[0;32melse\u001b[0m\u001b[0;34m:\u001b[0m\u001b[0;34m\u001b[0m\u001b[0;34m\u001b[0m\u001b[0m\n\u001b[1;32m    288\u001b[0m             \u001b[0msolve_func\u001b[0m \u001b[0;34m=\u001b[0m \u001b[0mProblem\u001b[0m\u001b[0;34m.\u001b[0m\u001b[0m_solve\u001b[0m\u001b[0;34m\u001b[0m\u001b[0;34m\u001b[0m\u001b[0m\n\u001b[0;32m--> 289\u001b[0;31m         \u001b[0;32mreturn\u001b[0m \u001b[0msolve_func\u001b[0m\u001b[0;34m(\u001b[0m\u001b[0mself\u001b[0m\u001b[0;34m,\u001b[0m \u001b[0;34m*\u001b[0m\u001b[0margs\u001b[0m\u001b[0;34m,\u001b[0m \u001b[0;34m**\u001b[0m\u001b[0mkwargs\u001b[0m\u001b[0;34m)\u001b[0m\u001b[0;34m\u001b[0m\u001b[0;34m\u001b[0m\u001b[0m\n\u001b[0m\u001b[1;32m    290\u001b[0m \u001b[0;34m\u001b[0m\u001b[0m\n\u001b[1;32m    291\u001b[0m     \u001b[0;34m@\u001b[0m\u001b[0mclassmethod\u001b[0m\u001b[0;34m\u001b[0m\u001b[0;34m\u001b[0m\u001b[0m\n",
      "\u001b[0;32m/usr/local/lib/python3.6/dist-packages/cvxpy/problems/problem.py\u001b[0m in \u001b[0;36m_solve\u001b[0;34m(self, solver, warm_start, verbose, parallel, gp, qcp, **kwargs)\u001b[0m\n\u001b[1;32m    572\u001b[0m         \u001b[0mfull_chain\u001b[0m \u001b[0;34m=\u001b[0m \u001b[0mself\u001b[0m\u001b[0;34m.\u001b[0m\u001b[0m_solving_chain\u001b[0m\u001b[0;34m.\u001b[0m\u001b[0mprepend\u001b[0m\u001b[0;34m(\u001b[0m\u001b[0mself\u001b[0m\u001b[0;34m.\u001b[0m\u001b[0m_intermediate_chain\u001b[0m\u001b[0;34m)\u001b[0m\u001b[0;34m\u001b[0m\u001b[0;34m\u001b[0m\u001b[0m\n\u001b[1;32m    573\u001b[0m         \u001b[0minverse_data\u001b[0m \u001b[0;34m=\u001b[0m \u001b[0mself\u001b[0m\u001b[0;34m.\u001b[0m\u001b[0m_intermediate_inverse_data\u001b[0m \u001b[0;34m+\u001b[0m \u001b[0msolving_inverse_data\u001b[0m\u001b[0;34m\u001b[0m\u001b[0;34m\u001b[0m\u001b[0m\n\u001b[0;32m--> 574\u001b[0;31m         \u001b[0mself\u001b[0m\u001b[0;34m.\u001b[0m\u001b[0munpack_results\u001b[0m\u001b[0;34m(\u001b[0m\u001b[0msolution\u001b[0m\u001b[0;34m,\u001b[0m \u001b[0mfull_chain\u001b[0m\u001b[0;34m,\u001b[0m \u001b[0minverse_data\u001b[0m\u001b[0;34m)\u001b[0m\u001b[0;34m\u001b[0m\u001b[0;34m\u001b[0m\u001b[0m\n\u001b[0m\u001b[1;32m    575\u001b[0m         \u001b[0;32mreturn\u001b[0m \u001b[0mself\u001b[0m\u001b[0;34m.\u001b[0m\u001b[0mvalue\u001b[0m\u001b[0;34m\u001b[0m\u001b[0;34m\u001b[0m\u001b[0m\n\u001b[1;32m    576\u001b[0m \u001b[0;34m\u001b[0m\u001b[0m\n",
      "\u001b[0;32m/usr/local/lib/python3.6/dist-packages/cvxpy/problems/problem.py\u001b[0m in \u001b[0;36munpack_results\u001b[0;34m(self, solution, chain, inverse_data)\u001b[0m\n\u001b[1;32m    715\u001b[0m             raise error.SolverError(\n\u001b[1;32m    716\u001b[0m                     \u001b[0;34m\"Solver '%s' failed. \"\u001b[0m \u001b[0;34m%\u001b[0m \u001b[0mchain\u001b[0m\u001b[0;34m.\u001b[0m\u001b[0msolver\u001b[0m\u001b[0;34m.\u001b[0m\u001b[0mname\u001b[0m\u001b[0;34m(\u001b[0m\u001b[0;34m)\u001b[0m \u001b[0;34m+\u001b[0m\u001b[0;34m\u001b[0m\u001b[0;34m\u001b[0m\u001b[0m\n\u001b[0;32m--> 717\u001b[0;31m                     \u001b[0;34m\"Try another solver, or solve with verbose=True for more \"\u001b[0m\u001b[0;34m\u001b[0m\u001b[0;34m\u001b[0m\u001b[0m\n\u001b[0m\u001b[1;32m    718\u001b[0m                     \"information.\")\n\u001b[1;32m    719\u001b[0m         \u001b[0mself\u001b[0m\u001b[0;34m.\u001b[0m\u001b[0munpack\u001b[0m\u001b[0;34m(\u001b[0m\u001b[0msolution\u001b[0m\u001b[0;34m)\u001b[0m\u001b[0;34m\u001b[0m\u001b[0;34m\u001b[0m\u001b[0m\n",
      "\u001b[0;31mSolverError\u001b[0m: Solver 'OSQP' failed. Try another solver, or solve with verbose=True for more information."
     ]
    },
    {
     "data": {
      "image/png": "[encoded data removed]",
      "text/plain": [
       "<Figure size 432x288 with 1 Axes>"
      ]
     },
     "metadata": {
      "tags": []
     },
     "output_type": "display_data"
    }
   ],
   "source": [
    "def ini_U(n, K):\n",
    "  U = np.random.rand(n,K)\n",
    "  return U\n",
    "\n",
    "\n",
    "mu = 0\n",
    "beta = 0.99\n",
    "pi = 0.8\n",
    "t = 1\n",
    "Uini = ini_U(model.n, model.K)\n",
    "U = proximal_descent(model.X, t, Uini, beta, pi, mu)\n",
    "\n",
    "R1,s,R2t = np.linalg.svd(model.X @ U)\n",
    "W = U @ (R2t.T @ R1.T[:model.K,:])\n",
    "\n",
    "temp = W[I,:]\n",
    "plt.imshow(temp[:,I])\n",
    "\n",
    "model.solve_relaxed_LP(W)\n",
    "model.Kmedoids()"
   ]
  },
  {
   "cell_type": "markdown",
   "metadata": {
    "colab_type": "text",
    "id": "ru0fH7cGngzp"
   },
   "source": [
    "##### Error rate on the final clutering\n"
   ]
  },
  {
   "cell_type": "code",
   "execution_count": 0,
   "metadata": {
    "colab": {
     "base_uri": "https://localhost:8080/",
     "height": 283
    },
    "colab_type": "code",
    "id": "VWzlhj776wxl",
    "outputId": "df42910e-3f5f-4221-be4c-bf00ad06a648"
   },
   "outputs": [
    {
     "ename": "AttributeError",
     "evalue": "ignored",
     "output_type": "error",
     "traceback": [
      "\u001b[0;31m---------------------------------------------------------------------------\u001b[0m",
      "\u001b[0;31mAttributeError\u001b[0m                            Traceback (most recent call last)",
      "\u001b[0;32m<ipython-input-7-3586eb1159e4>\u001b[0m in \u001b[0;36m<module>\u001b[0;34m()\u001b[0m\n\u001b[0;32m----> 1\u001b[0;31m \u001b[0mprint\u001b[0m\u001b[0;34m(\u001b[0m\u001b[0;34m'We get '\u001b[0m\u001b[0;34m,\u001b[0m \u001b[0;36m100\u001b[0m\u001b[0;34m*\u001b[0m\u001b[0mmodel\u001b[0m\u001b[0;34m.\u001b[0m\u001b[0mproportion_error\u001b[0m\u001b[0;34m(\u001b[0m\u001b[0;34m)\u001b[0m\u001b[0;34m,\u001b[0m \u001b[0;34m'% of error on the final clustering.'\u001b[0m\u001b[0;34m)\u001b[0m\u001b[0;34m\u001b[0m\u001b[0;34m\u001b[0m\u001b[0m\n\u001b[0m",
      "\u001b[0;32m<ipython-input-1-de84085a4d84>\u001b[0m in \u001b[0;36mproportion_error\u001b[0;34m(self)\u001b[0m\n\u001b[1;32m    242\u001b[0m     \u001b[0;32mdef\u001b[0m \u001b[0mproportion_error\u001b[0m\u001b[0;34m(\u001b[0m\u001b[0mself\u001b[0m\u001b[0;34m)\u001b[0m\u001b[0;34m:\u001b[0m\u001b[0;34m\u001b[0m\u001b[0;34m\u001b[0m\u001b[0m\n\u001b[1;32m    243\u001b[0m       \u001b[0md_true\u001b[0m   \u001b[0;34m=\u001b[0m \u001b[0mself\u001b[0m\u001b[0;34m.\u001b[0m\u001b[0mpartition\u001b[0m\u001b[0;34m(\u001b[0m\u001b[0mself\u001b[0m\u001b[0;34m.\u001b[0m\u001b[0mclusters\u001b[0m\u001b[0;34m)\u001b[0m\u001b[0;34m\u001b[0m\u001b[0;34m\u001b[0m\u001b[0m\n\u001b[0;32m--> 244\u001b[0;31m       \u001b[0md_approx\u001b[0m \u001b[0;34m=\u001b[0m \u001b[0mself\u001b[0m\u001b[0;34m.\u001b[0m\u001b[0mpartition\u001b[0m\u001b[0;34m(\u001b[0m\u001b[0mself\u001b[0m\u001b[0;34m.\u001b[0m\u001b[0mclusters_approx\u001b[0m\u001b[0;34m)\u001b[0m\u001b[0;34m\u001b[0m\u001b[0;34m\u001b[0m\u001b[0m\n\u001b[0m\u001b[1;32m    245\u001b[0m       \u001b[0mbest_error\u001b[0m \u001b[0;34m=\u001b[0m \u001b[0mnp\u001b[0m\u001b[0;34m.\u001b[0m\u001b[0mfloat\u001b[0m\u001b[0;34m(\u001b[0m\u001b[0;34m'inf'\u001b[0m\u001b[0;34m)\u001b[0m\u001b[0;34m\u001b[0m\u001b[0;34m\u001b[0m\u001b[0m\n\u001b[1;32m    246\u001b[0m       \u001b[0;32mimport\u001b[0m \u001b[0mitertools\u001b[0m\u001b[0;34m\u001b[0m\u001b[0;34m\u001b[0m\u001b[0m\n",
      "\u001b[0;31mAttributeError\u001b[0m: 'SBM' object has no attribute 'clusters_approx'"
     ]
    }
   ],
   "source": [
    "print('We get ', 100*model.proportion_error(), '% of error on the final clustering.')"
   ]
  },
  {
   "cell_type": "code",
   "execution_count": 0,
   "metadata": {
    "colab": {
     "base_uri": "https://localhost:8080/",
     "height": 74
    },
    "colab_type": "code",
    "id": "W5pVzTw76TmM",
    "outputId": "8ed4c6b1-cbd6-44b2-e86c-a0ad764be853"
   },
   "outputs": [
    {
     "name": "stdout",
     "output_type": "stream",
     "text": [
      "{0: {0, 3, 4, 8, 9, 10, 11, 12, 13, 16, 17, 18, 19, 20, 21, 24, 25, 31, 34, 35, 36, 38, 39}, 1: {32, 1, 2, 33, 5, 6, 7, 37, 14, 15, 22, 23, 26, 27, 28, 29, 30}}\n",
      "{0: {0, 3, 4, 8, 9, 10, 11, 12, 13, 16, 17, 18, 19, 20, 21, 24, 25, 31, 34, 35, 36, 38, 39}, 1: {32, 1, 2, 33, 5, 6, 7, 37, 14, 15, 22, 23, 26, 27, 28, 29, 30}}\n"
     ]
    }
   ],
   "source": [
    "print('True partition : ', model.partition(model.clusters))\n",
    "print('Inferred partition : ', model.partition(model.clusters_approx))"
   ]
  },
  {
   "cell_type": "code",
   "execution_count": 0,
   "metadata": {
    "colab": {
     "base_uri": "https://localhost:8080/",
     "height": 54
    },
    "colab_type": "code",
    "id": "1LVNmENw8WjI",
    "outputId": "eb0fd2cb-6305-4f86-8c9c-15cb827416a9"
   },
   "outputs": [
    {
     "data": {
      "text/plain": [
       "array([[0.8, 0.2],\n",
       "       [0.2, 0.8]])"
      ]
     },
     "execution_count": 168,
     "metadata": {
      "tags": []
     },
     "output_type": "execute_result"
    }
   ],
   "source": [
    "model.Q\n",
    "# corr = np.zeros((model.n,model.n))\n",
    "# for i in range(model.n):\n",
    "#   for j in range(model.n):\n",
    "#     corr[i,j] = np.vdot(W[i,:],W[j,:]) / ( np.linalg.norm(W[i,:]) * np.linalg.norm(W[j,:]) )\n",
    "# temp = corr[I,:]\n",
    "# plt.imshow(temp[:,I])"
   ]
  },
  {
   "cell_type": "code",
   "execution_count": 0,
   "metadata": {
    "colab": {
     "base_uri": "https://localhost:8080/",
     "height": 35
    },
    "colab_type": "code",
    "id": "FgYsrUHPaoAC",
    "outputId": "e1fdcfdf-7edf-4706-88ae-759960e013d3"
   },
   "outputs": [
    {
     "name": "stdout",
     "output_type": "stream",
     "text": [
      "4.518805105474828\n"
     ]
    }
   ],
   "source": [
    "D2 = np.min(np.linalg.norm(model.Q,axis=0))\n",
    "L = np.max(model.Q*np.log(model.n)/model.n)\n",
    "print(D2/L)"
   ]
  }
 ],
 "metadata": {
  "colab": {
   "collapsed_sections": [
    "heg65I7pY7-N"
   ],
   "name": "these.ipynb",
   "provenance": []
  },
  "kernelspec": {
   "display_name": "Python 3",
   "language": "python",
   "name": "python3"
  },
  "language_info": {
   "codemirror_mode": {
    "name": "ipython",
    "version": 3
   },
   "file_extension": ".py",
   "mimetype": "text/x-python",
   "name": "python",
   "nbconvert_exporter": "python",
   "pygments_lexer": "ipython3",
   "version": "3.6.8"
  }
 },
 "nbformat": 4,
 "nbformat_minor": 1
}
